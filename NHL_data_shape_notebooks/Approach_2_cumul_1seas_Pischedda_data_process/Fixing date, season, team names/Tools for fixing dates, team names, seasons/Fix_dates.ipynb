{
 "cells": [
  {
   "cell_type": "code",
   "execution_count": 1,
   "id": "9e65e16b-d32f-4f0c-bd88-c58022a785c9",
   "metadata": {},
   "outputs": [
    {
     "name": "stdout",
     "output_type": "stream",
     "text": [
      "[20082009, 20092010, 20102011, 20112012, 20122013, 20132014, 20142015, 20152016, 20162017, 20172018, 20182019, 20192020]\n",
      "20082009 1322.5 1230 1317.0\n",
      "20092010 1317.5 1230 1318.0\n",
      "20102011 1287.5 1319 1319.0\n",
      "20112012 1402.0 1316 1315.0\n",
      "20122013 787.5 806 806.0\n",
      "20132014 1357.5 1323 1323.0\n",
      "20142015 1300.0 1319 1319.0\n",
      "20152016 1350.0 1321 1321.0\n",
      "20162017 1355.0 1323 1317.0\n",
      "20172018 1317.5 1363 1355.0\n",
      "20182019 1287.5 1360 1358.0\n",
      "20192020 1192.5 1215 1212.0\n"
     ]
    }
   ],
   "source": [
    "##from the vscode file... data_fix_season_cut_down ... \n",
    "\n",
    "import pandas as pd\n",
    "import numpy as np\n",
    "\n",
    "\n",
    "##import all the files \n",
    "\n",
    "##file paths\n",
    "\n",
    "Kaggle_path = \"/Users/joejohns/data_bootcamp/Final_Project_NHL_prediction/Data/Kaggle_Data_Ellis/\"\n",
    "mp_path = \"/Users/joejohns/data_bootcamp/Final_Project_NHL_prediction/Data/Money_Puck_Data/\"\n",
    "betting_path = \"/Users/joejohns/data_bootcamp/Final_Project_NHL_prediction/Data/Betting_Data/\"\n",
    "\n",
    "##Kaggle files\n",
    "\n",
    "df_game = pd.read_csv(Kaggle_path+'game.csv')\n",
    "df_game_team_stats = pd.read_csv(Kaggle_path+'game_teams_stats.csv')\n",
    "df_game_skater_stats = pd.read_csv(Kaggle_path+'game_skater_stats.csv')\n",
    "df_game_goalie_stats = pd.read_csv(Kaggle_path+'game_goalie_stats.csv')\n",
    "\n",
    "##more subtle Kaggle features:\n",
    "df_game_scratches = pd.read_csv(Kaggle_path+'game_scratches.csv')\n",
    "df_game_officials = pd.read_csv(Kaggle_path+'game_officials.csv')\n",
    "df_team_info = pd.read_csv(Kaggle_path+'team_info.csv')\n",
    "\n",
    "## grab all the moneypuck data \n",
    "\n",
    "df_mp_teams = pd.read_csv(mp_path+'all_teams.csv')\n",
    "\n",
    "\n",
    "## grab all betting data \n",
    "df1 = pd.read_excel(io = betting_path+'nhl odds 2007-08.xlsx')\n",
    "df2 = pd.read_excel(io = betting_path+'nhl odds 2008-09.xlsx')\n",
    "df3 = pd.read_excel(io = betting_path+'nhl odds 2009-10.xlsx')\n",
    "df4 = pd.read_excel(io = betting_path+'nhl odds 2010-11.xlsx')\n",
    "df5 = pd.read_excel(io = betting_path+'nhl odds 2011-12.xlsx')\n",
    "df6 = pd.read_excel(io = betting_path+'nhl odds 2012-13.xlsx')\n",
    "df7 = pd.read_excel(io = betting_path+'nhl odds 2013-14.xlsx')\n",
    "df8 = pd.read_excel(io = betting_path+'nhl odds 2014-15.xlsx')\n",
    "df9 = pd.read_excel(io = betting_path+'nhl odds 2015-16.xlsx')\n",
    "df10 = pd.read_excel(io = betting_path+'nhl odds 2016-17.xlsx')\n",
    "df11 = pd.read_excel(io = betting_path+'nhl odds 2017-18.xlsx')\n",
    "df12 = pd.read_excel(io = betting_path+'nhl odds 2018-19.xlsx')\n",
    "df13 = pd.read_excel(io = betting_path+'nhl odds 2019-20.xlsx')\n",
    "\n",
    "\n",
    "\n",
    "\n",
    "df1['season'] = 20072008\n",
    "df2['season'] = 20082009\n",
    "df3['season'] = 20092010\n",
    "df4['season'] = 20102011\n",
    "df5['season'] = 20112012\n",
    "df6['season'] = 20122013\n",
    "df7['season'] = 20132014\n",
    "df8['season'] = 20142015\n",
    "df9['season'] = 20152016\n",
    "df10['season'] = 20162017\n",
    "df11['season'] = 20172018\n",
    "df12['season'] = 20182019\n",
    "df13['season'] = 20192020\n",
    "\n",
    "df_betting = pd.concat([df1, df2, df3, df4, df5, df6, df7, df8, df9, df10, df11, df12, df13])\n",
    "\n",
    "##### restrict data sets \n",
    "## restrict data sets \n",
    "df_betting = df_betting.loc[:, ['Date', 'season','VH', 'Team', 'Open']].copy()\n",
    "df_mp_teams.rename(columns={\"teamId\": \"team_id\"}, inplace = True)\n",
    "\n",
    "df_mp_teams_all = df_mp_teams.loc[df_mp_teams['situation'] == 'all', :].copy()\n",
    "\n",
    "##### restrict data sets \n",
    "\n",
    "\n",
    "df_betting = df_betting.loc[:, ['Date', 'season','VH', 'Team', 'Open']].copy()\n",
    "df_mp_teams_all = df_mp_teams.loc[df_mp_teams['situation'] == 'all', :].copy()\n",
    "\n",
    "##drop duplicates and one column had some NaN;\n",
    "##note there are more nan values in df_game_skaters/team/goalies but I think df_mp gets those.\n",
    "\n",
    "df_game.drop_duplicates(inplace = True)\n",
    "df_game.drop(columns = ['home_rink_side_start'], inplace = True)\n",
    "\n",
    "## fix seasons in df_mp (other 2 already have 20082009 format)\n",
    "\n",
    "\n",
    "def fix_mp_season(n):\n",
    "    return int(str(n)+str(n+1))\n",
    "\n",
    "#test \n",
    "#fix_mp_season(2010)\n",
    "df_mp_teams['season'] = df_mp_teams['season'].map(fix_mp_season)\n",
    "df_mp_teams_all['season'] = df_mp_teams_all['season'].map(fix_mp_season)\n",
    "\n",
    "\n",
    "##restrict seasons; 20082009 to 20192020 is the range common to all 3 df's\n",
    "seasons = []\n",
    "for n in range(2008,2020):\n",
    "    seasons.append(int(str(n)+str(n+1)))\n",
    "\n",
    "#check seasons look ok\n",
    "print(seasons)\n",
    "\n",
    "#restrict seasons:\n",
    "\n",
    "##note: In notebook I checked that value counts of the seasons did not change after this\n",
    "#restriction\n",
    "\n",
    "\n",
    "df_betting = df_betting.loc[df_game['season'].isin(seasons), :].copy()\n",
    "df_game = df_game.loc[df_game['season'].isin(seasons), :].copy()\n",
    "df_mp_teams = df_mp_teams.loc[df_mp_teams['season'].isin(seasons), :].copy()\n",
    "df_mp_teams_all = df_mp_teams_all.loc[df_mp_teams_all['season'].isin(seasons), :].copy()\n",
    "\n",
    "##here is a count of how many games in each df ... approx the same ... so looks likely there \n",
    "##should be close to full overlap in game_id's\n",
    "\n",
    "\n",
    "## the index is no longer consecutive so we reset:\n",
    "\n",
    "df_betting.reset_index(drop = True, inplace = True)\n",
    "df_game.reset_index(drop = True, inplace = True)\n",
    "df_mp_teams.reset_index(drop = True, inplace = True)\n",
    "df_mp_teams_all.reset_index(drop = True, inplace = True)\n",
    "\n",
    "for seas in seasons:\n",
    "    print(seas, len(df_mp_teams_all.loc[df_mp_teams['season']==seas])/2, len(df_game.loc[df_game['season']==seas]), len(df_betting.loc[df_betting['season']==seas])/2)"
   ]
  },
  {
   "cell_type": "code",
   "execution_count": 2,
   "id": "76a1b5f1-499a-4068-b50d-cedb0bafdb84",
   "metadata": {},
   "outputs": [
    {
     "data": {
      "text/plain": [
       "'2016-10-19T00:30:00Z'"
      ]
     },
     "execution_count": 2,
     "metadata": {},
     "output_type": "execute_result"
    }
   ],
   "source": [
    "df_game['date_time_GMT'][0]"
   ]
  },
  {
   "cell_type": "code",
   "execution_count": null,
   "id": "bcd1c5e0-c128-47fa-8e87-f3530e50591d",
   "metadata": {},
   "outputs": [],
   "source": [
    "## check that df_mp and df_game have similar games ... "
   ]
  },
  {
   "cell_type": "code",
   "execution_count": null,
   "id": "90445adb-9e7e-4edd-a5ed-cb695e85b41f",
   "metadata": {},
   "outputs": [],
   "source": [
    "## next investigate game overlaps\n",
    "\n",
    "len(set(df_mp_teams_all['gameId']).symmetric_difference(set(df_game['game_id'])))\n"
   ]
  },
  {
   "cell_type": "code",
   "execution_count": null,
   "id": "8c0c0a85-2604-4d0c-ac65-c802ae588a78",
   "metadata": {},
   "outputs": [],
   "source": [
    "len(set(df_mp_teams_all['gameId']).intersection(set(df_game['game_id'])))\n"
   ]
  },
  {
   "cell_type": "code",
   "execution_count": null,
   "id": "1d9336ba-bfe4-4e7e-9f69-632a53f077d8",
   "metadata": {},
   "outputs": [],
   "source": [
    "## restrict later when we do joins ...\n",
    "\n",
    "##ok we want to assign game_id to df_mp ... this is the key step, then we can merge all dfs on game_id\n",
    "##to get game_id, we need to know team, date ... so we need to fix those two things.\n",
    "## start with date for df_game and df_mp ... that is easier "
   ]
  },
  {
   "cell_type": "code",
   "execution_count": null,
   "id": "45664c30-a1a3-4fdd-8b7f-168f6f8440fa",
   "metadata": {},
   "outputs": [],
   "source": [
    "##fix date for df_game ... we will use df_mp format ... 20080904 ymd"
   ]
  },
  {
   "cell_type": "code",
   "execution_count": null,
   "id": "70fd5f32-9916-4b85-9e96-ef44490a403a",
   "metadata": {},
   "outputs": [],
   "source": [
    "#the function appends 0 in front of any day or month with one digit to follow mp format\n",
    "\n",
    "def to_string(n):\n",
    "    s = str(n)\n",
    "    if len(s) ==1:\n",
    "        return \"0\"+s\n",
    "    else:\n",
    "        return s\n",
    "\n",
    "#takes in date_time date and returns yyyymmdd eg 20080904\n",
    "\n",
    "def game_add_date(date_time):\n",
    "    d = date_time.day\n",
    "    m = date_time.month\n",
    "    y = date_time.year\n",
    "    dd = to_string(d)\n",
    "    mm = to_string(m)\n",
    "    yyyy = str(y)\n",
    "    return(int(yyyy+mm+dd))\n",
    "    \n",
    "\n",
    "## do mp style date for df_games\n",
    "\n",
    "df_game['date_time_GMT'] = pd.to_datetime(df_game['date_time_GMT']) \n",
    "\n",
    "test = df_game['date_time_GMT'][105]\n",
    "test \n",
    "\n",
    "\n",
    "game_add_date(test)\n",
    "\n",
    "df_game['mp_date'] = df_game['date_time_GMT'].apply(game_add_date)"
   ]
  },
  {
   "cell_type": "code",
   "execution_count": null,
   "id": "5d73dee2-b29e-406e-a4d1-db1a967587d2",
   "metadata": {},
   "outputs": [],
   "source": [
    "df_game.loc[15000:15100, ['mp_date', 'date_time_GMT']]"
   ]
  },
  {
   "cell_type": "code",
   "execution_count": null,
   "id": "22c6ef84-ebb4-44fd-a5c4-d8eb915677d6",
   "metadata": {},
   "outputs": [],
   "source": [
    "print(len(set(df_game['mp_date'])), len(set(df_game['date_time_GMT'])))"
   ]
  },
  {
   "cell_type": "code",
   "execution_count": null,
   "id": "7207d6eb-74e7-4ffb-a1ff-9b1b5cfcb795",
   "metadata": {},
   "outputs": [],
   "source": [
    "##ok, dates look correct for df_game ... now for df_betting "
   ]
  },
  {
   "cell_type": "code",
   "execution_count": null,
   "id": "2cbda3e7-c6e4-4a1a-b15c-8850e590e8b1",
   "metadata": {},
   "outputs": [],
   "source": [
    "df_betting.head(20)"
   ]
  },
  {
   "cell_type": "code",
   "execution_count": null,
   "id": "71b49187-b393-4569-a41b-37ca7087b29b",
   "metadata": {},
   "outputs": [],
   "source": [
    "#restrict seasons: #betting is done already\n",
    "def bet_mp_date(date, season):\n",
    "    d = str(date)\n",
    "    s = str(season)\n",
    "    if len(d) == 3:\n",
    "        d = \"0\"+d \n",
    "    if (900 < date):\n",
    "        y= s[:4]\n",
    "    else:\n",
    "        y = s[4:]\n",
    "    return int(y+d)\n"
   ]
  },
  {
   "cell_type": "code",
   "execution_count": null,
   "id": "6808fd89-5fb2-4e29-b302-de50d4543026",
   "metadata": {},
   "outputs": [],
   "source": [
    "bet_mp_date(826, 20112012)"
   ]
  },
  {
   "cell_type": "code",
   "execution_count": null,
   "id": "c66bb63c-edd0-413d-9abe-ee8bc4186ed4",
   "metadata": {},
   "outputs": [],
   "source": [
    "df_betting['mp_date'] = np.vectorize(bet_mp_date)(df_betting['Date'], df_betting['season'])"
   ]
  },
  {
   "cell_type": "code",
   "execution_count": null,
   "id": "4aa452b5-feaa-4f6a-b418-1e6ad5f5c313",
   "metadata": {},
   "outputs": [],
   "source": [
    "df_betting.shape"
   ]
  },
  {
   "cell_type": "code",
   "execution_count": null,
   "id": "85167dc6-b23a-415d-a216-c129255ca9af",
   "metadata": {},
   "outputs": [],
   "source": [
    "df_betting.loc[20000:20020, ['Date', 'season', 'mp_date'  ]]"
   ]
  },
  {
   "cell_type": "code",
   "execution_count": null,
   "id": "53d34c29-5e11-470a-bb2d-7d51c77be5bd",
   "metadata": {},
   "outputs": [],
   "source": []
  }
 ],
 "metadata": {
  "kernelspec": {
   "display_name": "Python 3",
   "language": "python",
   "name": "python3"
  },
  "language_info": {
   "codemirror_mode": {
    "name": "ipython",
    "version": 3
   },
   "file_extension": ".py",
   "mimetype": "text/x-python",
   "name": "python",
   "nbconvert_exporter": "python",
   "pygments_lexer": "ipython3",
   "version": "3.8.8"
  }
 },
 "nbformat": 4,
 "nbformat_minor": 5
}
