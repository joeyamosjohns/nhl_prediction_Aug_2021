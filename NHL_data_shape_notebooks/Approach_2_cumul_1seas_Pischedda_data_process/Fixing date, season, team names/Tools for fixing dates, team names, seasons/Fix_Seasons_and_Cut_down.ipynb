{
 "cells": [
  {
   "cell_type": "code",
   "execution_count": 1,
   "id": "212fd9a1-fd1c-4775-b8f8-26245a54d9da",
   "metadata": {},
   "outputs": [],
   "source": [
    "##grab all of the Kaggle Data\n",
    "\n",
    "Kaggle_files = ['game.csv',\n",
    "'game_teams_stats.csv',\n",
    "'game_scratches.csv',\n",
    "'game_officials.csv',\n",
    "'game_skater_stats.csv',\n",
    "'game_goalie_stats.csv'] \n",
    "\n",
    "\n",
    "Kaggle_path = \"/Users/joejohns/data_bootcamp/Final_Project_NHL_prediction/Data/Kaggle_Data_Ellis/\"\n",
    "mp_path = \"/Users/joejohns/data_bootcamp/Final_Project_NHL_prediction/Data/Money_Puck_Data/\"\n",
    "betting_path = \"/Users/joejohns/data_bootcamp/Final_Project_NHL_prediction/Data/Betting_Data/\"\n",
    "\n",
    "\n",
    "import pandas as pd\n",
    "import numpy as np"
   ]
  },
  {
   "cell_type": "code",
   "execution_count": 2,
   "id": "d4d56230-5f10-47fa-9101-91ceec310d3f",
   "metadata": {},
   "outputs": [],
   "source": [
    "df_game = pd.read_csv(Kaggle_path+'game.csv')\n",
    "df_game_team_stats = pd.read_csv(Kaggle_path+'game_teams_stats.csv')\n",
    "df_game_skater_stats = pd.read_csv(Kaggle_path+'game_skater_stats.csv')\n",
    "df_game_goalie_stats = pd.read_csv(Kaggle_path+'game_goalie_stats.csv')\n",
    "\n",
    "##more subtle features:\n",
    "df_game_scratches = pd.read_csv(Kaggle_path+'game_scratches.csv')\n",
    "df_game_officials = pd.read_csv(Kaggle_path+'game_officials.csv')\n",
    "df_team_info = pd.read_csv(Kaggle_path+'team_info.csv')\n",
    "\n",
    "\n"
   ]
  },
  {
   "cell_type": "code",
   "execution_count": 3,
   "id": "d32a0483-bebe-4d73-a60d-0f4dfd9ff306",
   "metadata": {},
   "outputs": [],
   "source": [
    "## grab all the moneypuck data \n",
    "\n",
    "df_mp_teams = pd.read_csv(mp_path+'all_teams.csv')\n",
    "\n",
    "\n"
   ]
  },
  {
   "cell_type": "code",
   "execution_count": 4,
   "id": "f60525b7-5a28-441f-9188-9130913e660e",
   "metadata": {},
   "outputs": [],
   "source": [
    "## grab all betting data \n",
    "df1 = pd.read_excel(io = betting_path+'nhl odds 2007-08.xlsx')\n",
    "df2 = pd.read_excel(io = betting_path+'nhl odds 2008-09.xlsx')\n",
    "df3 = pd.read_excel(io = betting_path+'nhl odds 2009-10.xlsx')\n",
    "df4 = pd.read_excel(io = betting_path+'nhl odds 2010-11.xlsx')\n",
    "df5 = pd.read_excel(io = betting_path+'nhl odds 2011-12.xlsx')\n",
    "df6 = pd.read_excel(io = betting_path+'nhl odds 2012-13.xlsx')\n",
    "df7 = pd.read_excel(io = betting_path+'nhl odds 2013-14.xlsx')\n",
    "df8 = pd.read_excel(io = betting_path+'nhl odds 2014-15.xlsx')\n",
    "df9 = pd.read_excel(io = betting_path+'nhl odds 2015-16.xlsx')\n",
    "df10 = pd.read_excel(io = betting_path+'nhl odds 2016-17.xlsx')\n",
    "df11 = pd.read_excel(io = betting_path+'nhl odds 2017-18.xlsx')\n",
    "df12 = pd.read_excel(io = betting_path+'nhl odds 2018-19.xlsx')\n",
    "df13 = pd.read_excel(io = betting_path+'nhl odds 2019-20.xlsx')\n",
    "\n",
    "\n"
   ]
  },
  {
   "cell_type": "code",
   "execution_count": 5,
   "id": "4f332228-f141-4bd8-b74a-ec2a386f7c9a",
   "metadata": {},
   "outputs": [],
   "source": [
    "df1['season'] = 20072008\n",
    "df2['season'] = 20082009\n",
    "df3['season'] = 20092010\n",
    "df4['season'] = 20102011\n",
    "df5['season'] = 20112012\n",
    "df6['season'] = 20122013\n",
    "df7['season'] = 20132014\n",
    "df8['season'] = 20142015\n",
    "df9['season'] = 20152016\n",
    "df10['season'] = 20162017\n",
    "df11['season'] = 20172018\n",
    "df12['season'] = 20182019\n",
    "df13['season'] = 20192020\n",
    "\n",
    "\n"
   ]
  },
  {
   "cell_type": "code",
   "execution_count": 6,
   "id": "9b47df4d-e1eb-4494-9138-4c593fc705b0",
   "metadata": {},
   "outputs": [],
   "source": [
    "##omit 2007-2008\n",
    "\n",
    "df_betting = pd.concat([df1, df2, df3, df4, df5, df6, df7, df8, df9, df10, df11, df12, df13])"
   ]
  },
  {
   "cell_type": "code",
   "execution_count": 7,
   "id": "6fc76fbc-2aff-4496-8e61-2d3ae33672d1",
   "metadata": {},
   "outputs": [],
   "source": [
    "df_betting = df_betting.loc[:, ['Date', 'season','VH', 'Team', 'Open']].copy()\n",
    "df_mp_teams_all = df_mp_teams.loc[df_mp_teams['situation'] == 'all', :].copy()\n",
    "df_game.drop_duplicates(inplace = True)\n",
    "df_game.drop(columns = ['home_rink_side_start'], inplace = True)"
   ]
  },
  {
   "cell_type": "code",
   "execution_count": 26,
   "id": "a988928f-186c-4ff4-82d1-31e1bb1ce67e",
   "metadata": {},
   "outputs": [
    {
     "data": {
      "text/plain": [
       "20182019    2716\n",
       "20172018    2710\n",
       "20132014    2646\n",
       "20152016    2642\n",
       "20102011    2638\n",
       "20142015    2638\n",
       "20092010    2636\n",
       "20082009    2634\n",
       "20162017    2634\n",
       "20072008    2630\n",
       "20112012    2630\n",
       "20192020    2424\n",
       "20122013    1612\n",
       "Name: season, dtype: int64"
      ]
     },
     "execution_count": 26,
     "metadata": {},
     "output_type": "execute_result"
    }
   ],
   "source": [
    "df_betting['season'].value_counts()"
   ]
  },
  {
   "cell_type": "code",
   "execution_count": 27,
   "id": "62761a48-6d88-4b92-93cc-43222772d183",
   "metadata": {},
   "outputs": [
    {
     "data": {
      "text/plain": [
       "{20072008,\n",
       " 20082009,\n",
       " 20092010,\n",
       " 20102011,\n",
       " 20112012,\n",
       " 20122013,\n",
       " 20132014,\n",
       " 20142015,\n",
       " 20152016,\n",
       " 20162017,\n",
       " 20172018,\n",
       " 20182019,\n",
       " 20192020}"
      ]
     },
     "execution_count": 27,
     "metadata": {},
     "output_type": "execute_result"
    }
   ],
   "source": [
    "set(df_betting['season'])"
   ]
  },
  {
   "cell_type": "code",
   "execution_count": 28,
   "id": "455595f2-8bce-4815-89cb-eb0e54781a59",
   "metadata": {},
   "outputs": [
    {
     "data": {
      "text/plain": [
       "{20082009,\n",
       " 20092010,\n",
       " 20102011,\n",
       " 20112012,\n",
       " 20122013,\n",
       " 20132014,\n",
       " 20142015,\n",
       " 20152016,\n",
       " 20162017,\n",
       " 20172018,\n",
       " 20182019,\n",
       " 20192020}"
      ]
     },
     "execution_count": 28,
     "metadata": {},
     "output_type": "execute_result"
    }
   ],
   "source": [
    "set(df_game['season'])"
   ]
  },
  {
   "cell_type": "code",
   "execution_count": 30,
   "id": "7c5c0270-c898-4cdf-882a-a316c977a967",
   "metadata": {},
   "outputs": [
    {
     "data": {
      "text/plain": [
       "{20082009,\n",
       " 20092010,\n",
       " 20102011,\n",
       " 20112012,\n",
       " 20122013,\n",
       " 20132014,\n",
       " 20142015,\n",
       " 20152016,\n",
       " 20162017,\n",
       " 20172018,\n",
       " 20182019,\n",
       " 20192020}"
      ]
     },
     "execution_count": 30,
     "metadata": {},
     "output_type": "execute_result"
    }
   ],
   "source": [
    "set(df_mp_teams_all['season'])"
   ]
  },
  {
   "cell_type": "code",
   "execution_count": 29,
   "id": "8adeb384-632f-4b47-9414-a4d6ed1c22d8",
   "metadata": {},
   "outputs": [
    {
     "data": {
      "text/plain": [
       "{20082009,\n",
       " 20092010,\n",
       " 20102011,\n",
       " 20112012,\n",
       " 20122013,\n",
       " 20132014,\n",
       " 20142015,\n",
       " 20152016,\n",
       " 20162017,\n",
       " 20172018,\n",
       " 20182019,\n",
       " 20192020}"
      ]
     },
     "execution_count": 29,
     "metadata": {},
     "output_type": "execute_result"
    }
   ],
   "source": [
    "set(df_mp_teams['season'])"
   ]
  },
  {
   "cell_type": "code",
   "execution_count": 29,
   "id": "150666ac-09d1-427a-990e-ec051309eb47",
   "metadata": {},
   "outputs": [
    {
     "data": {
      "text/plain": [
       "{20082009,\n",
       " 20092010,\n",
       " 20102011,\n",
       " 20112012,\n",
       " 20122013,\n",
       " 20132014,\n",
       " 20142015,\n",
       " 20152016,\n",
       " 20162017,\n",
       " 20172018,\n",
       " 20182019,\n",
       " 20192020}"
      ]
     },
     "execution_count": 29,
     "metadata": {},
     "output_type": "execute_result"
    }
   ],
   "source": [
    "set(df_mp_teams['season'])"
   ]
  },
  {
   "cell_type": "code",
   "execution_count": 29,
   "id": "6b0d3afc-85e0-4333-9ede-2eaccb4fb749",
   "metadata": {},
   "outputs": [
    {
     "data": {
      "text/plain": [
       "{20082009,\n",
       " 20092010,\n",
       " 20102011,\n",
       " 20112012,\n",
       " 20122013,\n",
       " 20132014,\n",
       " 20142015,\n",
       " 20152016,\n",
       " 20162017,\n",
       " 20172018,\n",
       " 20182019,\n",
       " 20192020}"
      ]
     },
     "execution_count": 29,
     "metadata": {},
     "output_type": "execute_result"
    }
   ],
   "source": [
    "set(df_mp_teams['season'])"
   ]
  },
  {
   "cell_type": "code",
   "execution_count": 37,
   "id": "a8dae05a-398d-4aaf-b2ac-9a03ca45a440",
   "metadata": {},
   "outputs": [],
   "source": [
    "def perc_null(X):\n",
    "    \n",
    "    total = X.isnull().sum().sort_values(ascending=False)\n",
    "    data_types = X.dtypes\n",
    "    percent = (X.isnull().sum()/X.isnull().count()).sort_values(ascending=False)\n",
    "\n",
    "    missing_data = pd.concat([total, data_types, percent], axis=1, keys=['Total','Type', 'Percent'])\n",
    "    return missing_data\n"
   ]
  },
  {
   "cell_type": "code",
   "execution_count": 38,
   "id": "65b2974d-8085-4e11-bc20-4d2bb8f97de4",
   "metadata": {},
   "outputs": [
    {
     "data": {
      "text/html": [
       "<div>\n",
       "<style scoped>\n",
       "    .dataframe tbody tr th:only-of-type {\n",
       "        vertical-align: middle;\n",
       "    }\n",
       "\n",
       "    .dataframe tbody tr th {\n",
       "        vertical-align: top;\n",
       "    }\n",
       "\n",
       "    .dataframe thead th {\n",
       "        text-align: right;\n",
       "    }\n",
       "</style>\n",
       "<table border=\"1\" class=\"dataframe\">\n",
       "  <thead>\n",
       "    <tr style=\"text-align: right;\">\n",
       "      <th></th>\n",
       "      <th>Total</th>\n",
       "      <th>Type</th>\n",
       "      <th>Percent</th>\n",
       "    </tr>\n",
       "  </thead>\n",
       "  <tbody>\n",
       "    <tr>\n",
       "      <th>blocked</th>\n",
       "      <td>398107</td>\n",
       "      <td>float64</td>\n",
       "      <td>0.420908</td>\n",
       "    </tr>\n",
       "    <tr>\n",
       "      <th>hits</th>\n",
       "      <td>398107</td>\n",
       "      <td>float64</td>\n",
       "      <td>0.420908</td>\n",
       "    </tr>\n",
       "    <tr>\n",
       "      <th>giveaways</th>\n",
       "      <td>398107</td>\n",
       "      <td>float64</td>\n",
       "      <td>0.420908</td>\n",
       "    </tr>\n",
       "    <tr>\n",
       "      <th>takeaways</th>\n",
       "      <td>398107</td>\n",
       "      <td>float64</td>\n",
       "      <td>0.420908</td>\n",
       "    </tr>\n",
       "    <tr>\n",
       "      <th>game_id</th>\n",
       "      <td>0</td>\n",
       "      <td>int64</td>\n",
       "      <td>0.000000</td>\n",
       "    </tr>\n",
       "    <tr>\n",
       "      <th>faceoffTaken</th>\n",
       "      <td>0</td>\n",
       "      <td>int64</td>\n",
       "      <td>0.000000</td>\n",
       "    </tr>\n",
       "    <tr>\n",
       "      <th>shortHandedTimeOnIce</th>\n",
       "      <td>0</td>\n",
       "      <td>int64</td>\n",
       "      <td>0.000000</td>\n",
       "    </tr>\n",
       "    <tr>\n",
       "      <th>evenTimeOnIce</th>\n",
       "      <td>0</td>\n",
       "      <td>int64</td>\n",
       "      <td>0.000000</td>\n",
       "    </tr>\n",
       "    <tr>\n",
       "      <th>plusMinus</th>\n",
       "      <td>0</td>\n",
       "      <td>int64</td>\n",
       "      <td>0.000000</td>\n",
       "    </tr>\n",
       "    <tr>\n",
       "      <th>shortHandedAssists</th>\n",
       "      <td>0</td>\n",
       "      <td>int64</td>\n",
       "      <td>0.000000</td>\n",
       "    </tr>\n",
       "    <tr>\n",
       "      <th>shortHandedGoals</th>\n",
       "      <td>0</td>\n",
       "      <td>int64</td>\n",
       "      <td>0.000000</td>\n",
       "    </tr>\n",
       "    <tr>\n",
       "      <th>faceOffWins</th>\n",
       "      <td>0</td>\n",
       "      <td>int64</td>\n",
       "      <td>0.000000</td>\n",
       "    </tr>\n",
       "    <tr>\n",
       "      <th>player_id</th>\n",
       "      <td>0</td>\n",
       "      <td>int64</td>\n",
       "      <td>0.000000</td>\n",
       "    </tr>\n",
       "    <tr>\n",
       "      <th>penaltyMinutes</th>\n",
       "      <td>0</td>\n",
       "      <td>int64</td>\n",
       "      <td>0.000000</td>\n",
       "    </tr>\n",
       "    <tr>\n",
       "      <th>powerPlayAssists</th>\n",
       "      <td>0</td>\n",
       "      <td>int64</td>\n",
       "      <td>0.000000</td>\n",
       "    </tr>\n",
       "    <tr>\n",
       "      <th>powerPlayGoals</th>\n",
       "      <td>0</td>\n",
       "      <td>int64</td>\n",
       "      <td>0.000000</td>\n",
       "    </tr>\n",
       "    <tr>\n",
       "      <th>shots</th>\n",
       "      <td>0</td>\n",
       "      <td>int64</td>\n",
       "      <td>0.000000</td>\n",
       "    </tr>\n",
       "    <tr>\n",
       "      <th>goals</th>\n",
       "      <td>0</td>\n",
       "      <td>int64</td>\n",
       "      <td>0.000000</td>\n",
       "    </tr>\n",
       "    <tr>\n",
       "      <th>assists</th>\n",
       "      <td>0</td>\n",
       "      <td>int64</td>\n",
       "      <td>0.000000</td>\n",
       "    </tr>\n",
       "    <tr>\n",
       "      <th>timeOnIce</th>\n",
       "      <td>0</td>\n",
       "      <td>int64</td>\n",
       "      <td>0.000000</td>\n",
       "    </tr>\n",
       "    <tr>\n",
       "      <th>team_id</th>\n",
       "      <td>0</td>\n",
       "      <td>int64</td>\n",
       "      <td>0.000000</td>\n",
       "    </tr>\n",
       "    <tr>\n",
       "      <th>powerPlayTimeOnIce</th>\n",
       "      <td>0</td>\n",
       "      <td>int64</td>\n",
       "      <td>0.000000</td>\n",
       "    </tr>\n",
       "  </tbody>\n",
       "</table>\n",
       "</div>"
      ],
      "text/plain": [
       "                       Total     Type   Percent\n",
       "blocked               398107  float64  0.420908\n",
       "hits                  398107  float64  0.420908\n",
       "giveaways             398107  float64  0.420908\n",
       "takeaways             398107  float64  0.420908\n",
       "game_id                    0    int64  0.000000\n",
       "faceoffTaken               0    int64  0.000000\n",
       "shortHandedTimeOnIce       0    int64  0.000000\n",
       "evenTimeOnIce              0    int64  0.000000\n",
       "plusMinus                  0    int64  0.000000\n",
       "shortHandedAssists         0    int64  0.000000\n",
       "shortHandedGoals           0    int64  0.000000\n",
       "faceOffWins                0    int64  0.000000\n",
       "player_id                  0    int64  0.000000\n",
       "penaltyMinutes             0    int64  0.000000\n",
       "powerPlayAssists           0    int64  0.000000\n",
       "powerPlayGoals             0    int64  0.000000\n",
       "shots                      0    int64  0.000000\n",
       "goals                      0    int64  0.000000\n",
       "assists                    0    int64  0.000000\n",
       "timeOnIce                  0    int64  0.000000\n",
       "team_id                    0    int64  0.000000\n",
       "powerPlayTimeOnIce         0    int64  0.000000"
      ]
     },
     "execution_count": 38,
     "metadata": {},
     "output_type": "execute_result"
    }
   ],
   "source": [
    "perc_null(df_game_skater_stats)"
   ]
  },
  {
   "cell_type": "code",
   "execution_count": 39,
   "id": "66d85aae-2e7b-4856-8810-78cd246bb171",
   "metadata": {},
   "outputs": [
    {
     "data": {
      "text/html": [
       "<div>\n",
       "<style scoped>\n",
       "    .dataframe tbody tr th:only-of-type {\n",
       "        vertical-align: middle;\n",
       "    }\n",
       "\n",
       "    .dataframe tbody tr th {\n",
       "        vertical-align: top;\n",
       "    }\n",
       "\n",
       "    .dataframe thead th {\n",
       "        text-align: right;\n",
       "    }\n",
       "</style>\n",
       "<table border=\"1\" class=\"dataframe\">\n",
       "  <thead>\n",
       "    <tr style=\"text-align: right;\">\n",
       "      <th></th>\n",
       "      <th>Total</th>\n",
       "      <th>Type</th>\n",
       "      <th>Percent</th>\n",
       "    </tr>\n",
       "  </thead>\n",
       "  <tbody>\n",
       "    <tr>\n",
       "      <th>powerPlaySavePercentage</th>\n",
       "      <td>4743</td>\n",
       "      <td>float64</td>\n",
       "      <td>0.083716</td>\n",
       "    </tr>\n",
       "    <tr>\n",
       "      <th>decision</th>\n",
       "      <td>4102</td>\n",
       "      <td>object</td>\n",
       "      <td>0.072402</td>\n",
       "    </tr>\n",
       "    <tr>\n",
       "      <th>evenStrengthSavePercentage</th>\n",
       "      <td>197</td>\n",
       "      <td>float64</td>\n",
       "      <td>0.003477</td>\n",
       "    </tr>\n",
       "    <tr>\n",
       "      <th>savePercentage</th>\n",
       "      <td>139</td>\n",
       "      <td>float64</td>\n",
       "      <td>0.002453</td>\n",
       "    </tr>\n",
       "    <tr>\n",
       "      <th>shortHandedSaves</th>\n",
       "      <td>0</td>\n",
       "      <td>int64</td>\n",
       "      <td>0.000000</td>\n",
       "    </tr>\n",
       "    <tr>\n",
       "      <th>powerPlayShotsAgainst</th>\n",
       "      <td>0</td>\n",
       "      <td>int64</td>\n",
       "      <td>0.000000</td>\n",
       "    </tr>\n",
       "    <tr>\n",
       "      <th>evenShotsAgainst</th>\n",
       "      <td>0</td>\n",
       "      <td>int64</td>\n",
       "      <td>0.000000</td>\n",
       "    </tr>\n",
       "    <tr>\n",
       "      <th>shortHandedShotsAgainst</th>\n",
       "      <td>0</td>\n",
       "      <td>int64</td>\n",
       "      <td>0.000000</td>\n",
       "    </tr>\n",
       "    <tr>\n",
       "      <th>evenSaves</th>\n",
       "      <td>0</td>\n",
       "      <td>int64</td>\n",
       "      <td>0.000000</td>\n",
       "    </tr>\n",
       "    <tr>\n",
       "      <th>game_id</th>\n",
       "      <td>0</td>\n",
       "      <td>int64</td>\n",
       "      <td>0.000000</td>\n",
       "    </tr>\n",
       "    <tr>\n",
       "      <th>player_id</th>\n",
       "      <td>0</td>\n",
       "      <td>int64</td>\n",
       "      <td>0.000000</td>\n",
       "    </tr>\n",
       "    <tr>\n",
       "      <th>saves</th>\n",
       "      <td>0</td>\n",
       "      <td>int64</td>\n",
       "      <td>0.000000</td>\n",
       "    </tr>\n",
       "    <tr>\n",
       "      <th>shots</th>\n",
       "      <td>0</td>\n",
       "      <td>int64</td>\n",
       "      <td>0.000000</td>\n",
       "    </tr>\n",
       "    <tr>\n",
       "      <th>pim</th>\n",
       "      <td>0</td>\n",
       "      <td>int64</td>\n",
       "      <td>0.000000</td>\n",
       "    </tr>\n",
       "    <tr>\n",
       "      <th>goals</th>\n",
       "      <td>0</td>\n",
       "      <td>int64</td>\n",
       "      <td>0.000000</td>\n",
       "    </tr>\n",
       "    <tr>\n",
       "      <th>assists</th>\n",
       "      <td>0</td>\n",
       "      <td>int64</td>\n",
       "      <td>0.000000</td>\n",
       "    </tr>\n",
       "    <tr>\n",
       "      <th>timeOnIce</th>\n",
       "      <td>0</td>\n",
       "      <td>int64</td>\n",
       "      <td>0.000000</td>\n",
       "    </tr>\n",
       "    <tr>\n",
       "      <th>team_id</th>\n",
       "      <td>0</td>\n",
       "      <td>int64</td>\n",
       "      <td>0.000000</td>\n",
       "    </tr>\n",
       "    <tr>\n",
       "      <th>powerPlaySaves</th>\n",
       "      <td>0</td>\n",
       "      <td>int64</td>\n",
       "      <td>0.000000</td>\n",
       "    </tr>\n",
       "  </tbody>\n",
       "</table>\n",
       "</div>"
      ],
      "text/plain": [
       "                            Total     Type   Percent\n",
       "powerPlaySavePercentage      4743  float64  0.083716\n",
       "decision                     4102   object  0.072402\n",
       "evenStrengthSavePercentage    197  float64  0.003477\n",
       "savePercentage                139  float64  0.002453\n",
       "shortHandedSaves                0    int64  0.000000\n",
       "powerPlayShotsAgainst           0    int64  0.000000\n",
       "evenShotsAgainst                0    int64  0.000000\n",
       "shortHandedShotsAgainst         0    int64  0.000000\n",
       "evenSaves                       0    int64  0.000000\n",
       "game_id                         0    int64  0.000000\n",
       "player_id                       0    int64  0.000000\n",
       "saves                           0    int64  0.000000\n",
       "shots                           0    int64  0.000000\n",
       "pim                             0    int64  0.000000\n",
       "goals                           0    int64  0.000000\n",
       "assists                         0    int64  0.000000\n",
       "timeOnIce                       0    int64  0.000000\n",
       "team_id                         0    int64  0.000000\n",
       "powerPlaySaves                  0    int64  0.000000"
      ]
     },
     "execution_count": 39,
     "metadata": {},
     "output_type": "execute_result"
    }
   ],
   "source": [
    "perc_null(df_game_goalie_stats)"
   ]
  },
  {
   "cell_type": "code",
   "execution_count": 40,
   "id": "8b7d491a-ae4e-409c-ac25-65e09ca0d66a",
   "metadata": {},
   "outputs": [
    {
     "data": {
      "text/html": [
       "<div>\n",
       "<style scoped>\n",
       "    .dataframe tbody tr th:only-of-type {\n",
       "        vertical-align: middle;\n",
       "    }\n",
       "\n",
       "    .dataframe tbody tr th {\n",
       "        vertical-align: top;\n",
       "    }\n",
       "\n",
       "    .dataframe thead th {\n",
       "        text-align: right;\n",
       "    }\n",
       "</style>\n",
       "<table border=\"1\" class=\"dataframe\">\n",
       "  <thead>\n",
       "    <tr style=\"text-align: right;\">\n",
       "      <th></th>\n",
       "      <th>Total</th>\n",
       "      <th>Type</th>\n",
       "      <th>Percent</th>\n",
       "    </tr>\n",
       "  </thead>\n",
       "  <tbody>\n",
       "    <tr>\n",
       "      <th>faceOffWinPercentage</th>\n",
       "      <td>22148</td>\n",
       "      <td>float64</td>\n",
       "      <td>0.420985</td>\n",
       "    </tr>\n",
       "    <tr>\n",
       "      <th>hits</th>\n",
       "      <td>4928</td>\n",
       "      <td>float64</td>\n",
       "      <td>0.093670</td>\n",
       "    </tr>\n",
       "    <tr>\n",
       "      <th>blocked</th>\n",
       "      <td>4928</td>\n",
       "      <td>float64</td>\n",
       "      <td>0.093670</td>\n",
       "    </tr>\n",
       "    <tr>\n",
       "      <th>takeaways</th>\n",
       "      <td>4928</td>\n",
       "      <td>float64</td>\n",
       "      <td>0.093670</td>\n",
       "    </tr>\n",
       "    <tr>\n",
       "      <th>giveaways</th>\n",
       "      <td>4928</td>\n",
       "      <td>float64</td>\n",
       "      <td>0.093670</td>\n",
       "    </tr>\n",
       "    <tr>\n",
       "      <th>startRinkSide</th>\n",
       "      <td>2392</td>\n",
       "      <td>object</td>\n",
       "      <td>0.045467</td>\n",
       "    </tr>\n",
       "    <tr>\n",
       "      <th>head_coach</th>\n",
       "      <td>28</td>\n",
       "      <td>object</td>\n",
       "      <td>0.000532</td>\n",
       "    </tr>\n",
       "    <tr>\n",
       "      <th>goals</th>\n",
       "      <td>8</td>\n",
       "      <td>float64</td>\n",
       "      <td>0.000152</td>\n",
       "    </tr>\n",
       "    <tr>\n",
       "      <th>shots</th>\n",
       "      <td>8</td>\n",
       "      <td>float64</td>\n",
       "      <td>0.000152</td>\n",
       "    </tr>\n",
       "    <tr>\n",
       "      <th>pim</th>\n",
       "      <td>8</td>\n",
       "      <td>float64</td>\n",
       "      <td>0.000152</td>\n",
       "    </tr>\n",
       "    <tr>\n",
       "      <th>powerPlayOpportunities</th>\n",
       "      <td>8</td>\n",
       "      <td>float64</td>\n",
       "      <td>0.000152</td>\n",
       "    </tr>\n",
       "    <tr>\n",
       "      <th>powerPlayGoals</th>\n",
       "      <td>8</td>\n",
       "      <td>float64</td>\n",
       "      <td>0.000152</td>\n",
       "    </tr>\n",
       "    <tr>\n",
       "      <th>team_id</th>\n",
       "      <td>0</td>\n",
       "      <td>int64</td>\n",
       "      <td>0.000000</td>\n",
       "    </tr>\n",
       "    <tr>\n",
       "      <th>settled_in</th>\n",
       "      <td>0</td>\n",
       "      <td>object</td>\n",
       "      <td>0.000000</td>\n",
       "    </tr>\n",
       "    <tr>\n",
       "      <th>won</th>\n",
       "      <td>0</td>\n",
       "      <td>bool</td>\n",
       "      <td>0.000000</td>\n",
       "    </tr>\n",
       "    <tr>\n",
       "      <th>HoA</th>\n",
       "      <td>0</td>\n",
       "      <td>object</td>\n",
       "      <td>0.000000</td>\n",
       "    </tr>\n",
       "    <tr>\n",
       "      <th>game_id</th>\n",
       "      <td>0</td>\n",
       "      <td>int64</td>\n",
       "      <td>0.000000</td>\n",
       "    </tr>\n",
       "  </tbody>\n",
       "</table>\n",
       "</div>"
      ],
      "text/plain": [
       "                        Total     Type   Percent\n",
       "faceOffWinPercentage    22148  float64  0.420985\n",
       "hits                     4928  float64  0.093670\n",
       "blocked                  4928  float64  0.093670\n",
       "takeaways                4928  float64  0.093670\n",
       "giveaways                4928  float64  0.093670\n",
       "startRinkSide            2392   object  0.045467\n",
       "head_coach                 28   object  0.000532\n",
       "goals                       8  float64  0.000152\n",
       "shots                       8  float64  0.000152\n",
       "pim                         8  float64  0.000152\n",
       "powerPlayOpportunities      8  float64  0.000152\n",
       "powerPlayGoals              8  float64  0.000152\n",
       "team_id                     0    int64  0.000000\n",
       "settled_in                  0   object  0.000000\n",
       "won                         0     bool  0.000000\n",
       "HoA                         0   object  0.000000\n",
       "game_id                     0    int64  0.000000"
      ]
     },
     "execution_count": 40,
     "metadata": {},
     "output_type": "execute_result"
    }
   ],
   "source": [
    "perc_null(df_game_team_stats)"
   ]
  },
  {
   "cell_type": "code",
   "execution_count": 27,
   "id": "14a1600c-de79-48e2-82ea-c09af8317b16",
   "metadata": {},
   "outputs": [
    {
     "data": {
      "text/plain": [
       "0"
      ]
     },
     "execution_count": 27,
     "metadata": {},
     "output_type": "execute_result"
    }
   ],
   "source": [
    "perc_null(df_game)['Total'].sum()"
   ]
  },
  {
   "cell_type": "code",
   "execution_count": 29,
   "id": "6249939e-47f7-40c8-8d35-09be780e2cb6",
   "metadata": {},
   "outputs": [
    {
     "data": {
      "text/plain": [
       "0"
      ]
     },
     "execution_count": 29,
     "metadata": {},
     "output_type": "execute_result"
    }
   ],
   "source": [
    "perc_null(df_betting)['Total'].sum()"
   ]
  },
  {
   "cell_type": "code",
   "execution_count": 40,
   "id": "2f4cbdb7-60fc-4b09-a4fe-c89ccd62b1e1",
   "metadata": {},
   "outputs": [],
   "source": [
    "##double check 2008 is 20082009: yep, checked 2 seasons \n",
    "\n",
    "#df_mp_teams_all.sort_values(by = 'gameId').iloc[4200:4250, :10]"
   ]
  },
  {
   "cell_type": "code",
   "execution_count": 12,
   "id": "f9c58aec-9f7d-4115-a143-59a248ee2761",
   "metadata": {},
   "outputs": [],
   "source": [
    "##fix seasons for df_mp\n",
    "\n",
    "def fix_mp_season(n):\n",
    "    return int(str(n)+str(n+1))\n",
    "\n",
    "#test \n",
    "#fix_mp_season(2010)\n",
    "df_mp_teams['season'] = df_mp_teams['season'].map(fix_mp_season)\n",
    "df_mp_teams_all['season'] = df_mp_teams_all['season'].map(fix_mp_season)"
   ]
  },
  {
   "cell_type": "code",
   "execution_count": 23,
   "id": "82822001-bdcc-4ffa-b15e-72b9da968eac",
   "metadata": {},
   "outputs": [
    {
     "data": {
      "text/plain": [
       "20182019    13580\n",
       "20172018    13550\n",
       "20132014    13230\n",
       "20152016    13210\n",
       "20142015    13190\n",
       "20092010    13180\n",
       "20102011    13180\n",
       "20162017    13170\n",
       "20112012    13160\n",
       "20082009    13140\n",
       "20192020    12120\n",
       "20122013     8060\n",
       "Name: season, dtype: int64"
      ]
     },
     "execution_count": 23,
     "metadata": {},
     "output_type": "execute_result"
    }
   ],
   "source": [
    "df_mp_teams['season'].value_counts()"
   ]
  },
  {
   "cell_type": "code",
   "execution_count": 24,
   "id": "9c8702e2-da20-4686-b2ee-8084def53de1",
   "metadata": {},
   "outputs": [
    {
     "data": {
      "text/plain": [
       "20182019    2716\n",
       "20172018    2710\n",
       "20132014    2646\n",
       "20152016    2642\n",
       "20142015    2638\n",
       "20092010    2636\n",
       "20102011    2636\n",
       "20162017    2634\n",
       "20112012    2632\n",
       "20082009    2628\n",
       "20192020    2424\n",
       "20122013    1612\n",
       "Name: season, dtype: int64"
      ]
     },
     "execution_count": 24,
     "metadata": {},
     "output_type": "execute_result"
    }
   ],
   "source": [
    "df_mp_teams_all['season'].value_counts()  ##same, same "
   ]
  },
  {
   "cell_type": "code",
   "execution_count": 31,
   "id": "cd6ea1b0-924a-460e-9dab-e3e26956be24",
   "metadata": {},
   "outputs": [
    {
     "data": {
      "text/plain": [
       "20182019    13580\n",
       "20172018    13550\n",
       "20132014    13230\n",
       "20152016    13210\n",
       "20142015    13190\n",
       "20092010    13180\n",
       "20102011    13180\n",
       "20162017    13170\n",
       "20112012    13160\n",
       "20082009    13140\n",
       "20192020    12120\n",
       "20122013     8060\n",
       "Name: season, dtype: int64"
      ]
     },
     "execution_count": 31,
     "metadata": {},
     "output_type": "execute_result"
    }
   ],
   "source": [
    "df_mp_teams['season'].value_counts() "
   ]
  },
  {
   "cell_type": "code",
   "execution_count": null,
   "id": "6cfe1c82-6668-4e5b-95f1-01cd4a480bab",
   "metadata": {},
   "outputs": [],
   "source": []
  },
  {
   "cell_type": "code",
   "execution_count": 16,
   "id": "9d2af13c-b7c1-4fb7-97b8-adf0f30ceb86",
   "metadata": {},
   "outputs": [
    {
     "name": "stdout",
     "output_type": "stream",
     "text": [
      "[20082009, 20092010, 20102011, 20112012, 20122013, 20132014, 20142015, 20152016, 20162017, 20172018, 20182019, 20192020]\n"
     ]
    }
   ],
   "source": [
    "\n",
    "##restrict seasons \n",
    "seasons = []\n",
    "for n in range(2008,2020):\n",
    "    seasons.append(int(str(n)+str(n+1)))\n",
    "\n",
    "print(seasons)\n"
   ]
  },
  {
   "cell_type": "code",
   "execution_count": 19,
   "id": "66a22c48-94a9-4660-b19d-3cdc0a977d7c",
   "metadata": {},
   "outputs": [
    {
     "name": "stdout",
     "output_type": "stream",
     "text": [
      "20082009 1314.0 1230 1317.0\n",
      "20092010 1318.0 1230 1318.0\n",
      "20102011 1318.0 1319 1319.0\n",
      "20112012 1316.0 1316 1315.0\n",
      "20122013 806.0 806 806.0\n",
      "20132014 1323.0 1323 1323.0\n",
      "20142015 1319.0 1319 1319.0\n",
      "20152016 1321.0 1321 1321.0\n",
      "20162017 1317.0 1323 1317.0\n",
      "20172018 1355.0 1363 1355.0\n",
      "20182019 1358.0 1360 1358.0\n",
      "20192020 1212.0 1215 1212.0\n"
     ]
    }
   ],
   "source": [
    "for seas in seasons:\n",
    "    print(seas, len(df_mp_teams_all.loc[df_mp_teams['season']==seas])/2, len(df_game.loc[df_game['season']==seas]), len(df_betting.loc[df_betting['season']==seas])/2)"
   ]
  },
  {
   "cell_type": "code",
   "execution_count": null,
   "id": "511eebd3-d296-4c57-aca0-47dbebab3259",
   "metadata": {},
   "outputs": [],
   "source": [
    "##they match up starting 2013-14 ... but that was short so let's go with 2013-14"
   ]
  },
  {
   "cell_type": "markdown",
   "id": "bf76babc-faf9-4c71-915b-c856656ac351",
   "metadata": {},
   "source": [
    "CUT DOWN SEASONS TO 2008-09 to 2019-20"
   ]
  },
  {
   "cell_type": "code",
   "execution_count": null,
   "id": "2e4a54ca-4e46-474e-a298-ef886d74ef02",
   "metadata": {},
   "outputs": [],
   "source": [
    "data_frames = [df_mp_teams, df_mp_teams_all, df_betting, df_game]\n",
    "\n",
    "for X in data_frames:\n",
    "    X = X.loc[X['season'].isin(seasons), :].copy()\n",
    "    X.reset_index(drop = True, inplace = True)"
   ]
  },
  {
   "cell_type": "code",
   "execution_count": 21,
   "id": "183581ea-54b9-4448-af6f-1cdf010fc5c5",
   "metadata": {},
   "outputs": [],
   "source": [
    "#restrict seasons:\n",
    "df_betting = df_betting.loc[df_game['season'].isin(seasons), :].copy()\n",
    "df_game = df_game.loc[df_game['season'].isin(seasons), :].copy()\n",
    "df_mp_teams = df_mp_teams.loc[df_mp_teams['season'].isin(seasons), :].copy()\n",
    "df_mp_teams_all = df_mp_teams_all.loc[df_mp_teams_all['season'].isin(seasons), :].copy()"
   ]
  },
  {
   "cell_type": "code",
   "execution_count": 43,
   "id": "e496cfa2-22b3-41ba-9e84-86e74e924beb",
   "metadata": {},
   "outputs": [
    {
     "data": {
      "text/plain": [
       "200"
      ]
     },
     "execution_count": 43,
     "metadata": {},
     "output_type": "execute_result"
    }
   ],
   "source": [
    "## next investigate game overlaps\n",
    "\n",
    "len(set(df_mp_teams_all['gameId']).symmetric_difference(set(df_game['game_id'])))\n"
   ]
  },
  {
   "cell_type": "code",
   "execution_count": 44,
   "id": "f72ecd21-0b5a-44b8-9719-0dc2556bfb42",
   "metadata": {},
   "outputs": [
    {
     "data": {
      "text/plain": [
       "15101"
      ]
     },
     "execution_count": 44,
     "metadata": {},
     "output_type": "execute_result"
    }
   ],
   "source": [
    "len(set(df_mp_teams_all['gameId']).intersection(set(df_game['game_id'])))\n"
   ]
  },
  {
   "cell_type": "code",
   "execution_count": null,
   "id": "91d9048c-a470-4859-865a-de9ea7301256",
   "metadata": {},
   "outputs": [],
   "source": []
  }
 ],
 "metadata": {
  "kernelspec": {
   "display_name": "Python 3",
   "language": "python",
   "name": "python3"
  },
  "language_info": {
   "codemirror_mode": {
    "name": "ipython",
    "version": 3
   },
   "file_extension": ".py",
   "mimetype": "text/x-python",
   "name": "python",
   "nbconvert_exporter": "python",
   "pygments_lexer": "ipython3",
   "version": "3.8.8"
  }
 },
 "nbformat": 4,
 "nbformat_minor": 5
}
